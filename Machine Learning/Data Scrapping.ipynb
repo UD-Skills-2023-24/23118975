{
 "cells": [
  {
   "cell_type": "code",
   "execution_count": 1,
   "id": "74c6af53",
   "metadata": {},
   "outputs": [
    {
     "name": "stdout",
     "output_type": "stream",
     "text": [
      "Requirement already satisfied: selenium in e:\\softwares\\anaconda\\envs\\py38\\lib\\site-packages (4.13.0)\n",
      "Requirement already satisfied: urllib3[socks]<3,>=1.26 in e:\\softwares\\anaconda\\envs\\py38\\lib\\site-packages (from selenium) (2.0.6)\n",
      "Requirement already satisfied: trio~=0.17 in e:\\softwares\\anaconda\\envs\\py38\\lib\\site-packages (from selenium) (0.22.2)\n",
      "Requirement already satisfied: trio-websocket~=0.9 in e:\\softwares\\anaconda\\envs\\py38\\lib\\site-packages (from selenium) (0.11.1)\n",
      "Requirement already satisfied: certifi>=2021.10.8 in e:\\softwares\\anaconda\\envs\\py38\\lib\\site-packages (from selenium) (2023.7.22)\n",
      "Requirement already satisfied: attrs>=20.1.0 in e:\\softwares\\anaconda\\envs\\py38\\lib\\site-packages (from trio~=0.17->selenium) (23.1.0)\n",
      "Requirement already satisfied: sortedcontainers in e:\\softwares\\anaconda\\envs\\py38\\lib\\site-packages (from trio~=0.17->selenium) (2.4.0)\n",
      "Requirement already satisfied: idna in e:\\softwares\\anaconda\\envs\\py38\\lib\\site-packages (from trio~=0.17->selenium) (3.4)\n",
      "Requirement already satisfied: outcome in e:\\softwares\\anaconda\\envs\\py38\\lib\\site-packages (from trio~=0.17->selenium) (1.2.0)\n",
      "Requirement already satisfied: sniffio in e:\\softwares\\anaconda\\envs\\py38\\lib\\site-packages (from trio~=0.17->selenium) (1.2.0)\n",
      "Requirement already satisfied: cffi>=1.14 in e:\\softwares\\anaconda\\envs\\py38\\lib\\site-packages (from trio~=0.17->selenium) (1.15.1)\n",
      "Requirement already satisfied: exceptiongroup>=1.0.0rc9 in e:\\softwares\\anaconda\\envs\\py38\\lib\\site-packages (from trio~=0.17->selenium) (1.1.3)\n",
      "Requirement already satisfied: wsproto>=0.14 in e:\\softwares\\anaconda\\envs\\py38\\lib\\site-packages (from trio-websocket~=0.9->selenium) (1.2.0)\n",
      "Requirement already satisfied: pysocks!=1.5.7,<2.0,>=1.5.6 in e:\\softwares\\anaconda\\envs\\py38\\lib\\site-packages (from urllib3[socks]<3,>=1.26->selenium) (1.7.1)\n",
      "Requirement already satisfied: pycparser in e:\\softwares\\anaconda\\envs\\py38\\lib\\site-packages (from cffi>=1.14->trio~=0.17->selenium) (2.21)\n",
      "Requirement already satisfied: h11<1,>=0.9.0 in e:\\softwares\\anaconda\\envs\\py38\\lib\\site-packages (from wsproto>=0.14->trio-websocket~=0.9->selenium) (0.14.0)\n",
      "Requirement already satisfied: requests in e:\\softwares\\anaconda\\envs\\py38\\lib\\site-packages (2.31.0)\n",
      "Requirement already satisfied: charset-normalizer<4,>=2 in e:\\softwares\\anaconda\\envs\\py38\\lib\\site-packages (from requests) (3.3.2)\n",
      "Requirement already satisfied: idna<4,>=2.5 in e:\\softwares\\anaconda\\envs\\py38\\lib\\site-packages (from requests) (3.4)\n",
      "Requirement already satisfied: urllib3<3,>=1.21.1 in e:\\softwares\\anaconda\\envs\\py38\\lib\\site-packages (from requests) (2.0.6)\n",
      "Requirement already satisfied: certifi>=2017.4.17 in e:\\softwares\\anaconda\\envs\\py38\\lib\\site-packages (from requests) (2023.7.22)\n"
     ]
    }
   ],
   "source": [
    "!pip install selenium\n",
    "!pip install requests\n"
   ]
  },
  {
   "cell_type": "code",
   "execution_count": 7,
   "id": "ac07f1a1",
   "metadata": {},
   "outputs": [],
   "source": [
    "\n",
    "from selenium.webdriver.common.by import By\n",
    "from selenium.webdriver.common.keys import Keys\n",
    "from selenium.webdriver.support.ui import Select\n",
    "from selenium.webdriver.support.ui import WebDriverWait\n",
    "from selenium.webdriver.support import expected_conditions as EC\n",
    "from time import sleep\n",
    "import csv \n",
    "import shutil\n",
    "import os\n",
    "import requests\n"
   ]
  },
  {
   "cell_type": "code",
   "execution_count": 8,
   "id": "e59ecb82",
   "metadata": {},
   "outputs": [],
   "source": [
    "import selenium\n",
    "from selenium import webdriver\n"
   ]
  },
  {
   "cell_type": "code",
   "execution_count": 9,
   "id": "27c862f5",
   "metadata": {},
   "outputs": [],
   "source": [
    "driver = webdriver.Chrome()\n"
   ]
  },
  {
   "cell_type": "code",
   "execution_count": 10,
   "id": "5ae7a5e1",
   "metadata": {},
   "outputs": [],
   "source": [
    "\n",
    "#Write the data to a csv file\n",
    "\n",
    "import csv \n",
    "\n",
    "file_path = \"C:/Users/priya/Downloads/unescolinks.cvs\"\n",
    "        \n"
   ]
  },
  {
   "cell_type": "code",
   "execution_count": 11,
   "id": "51d67ba5",
   "metadata": {
    "scrolled": true
   },
   "outputs": [],
   "source": [
    "## Iterate through the csv and download the images\n",
    "#import library\n",
    "\n",
    "driver = webdriver.Chrome()\n",
    "import requests\n",
    "import os\n",
    "\n",
    "# Define the folder path\n",
    "folder_path = \"C:/Users/priya/Downloads/images\"\n",
    "\n",
    "\n",
    "\n",
    "#define a counter for naming \n",
    "i=0\n",
    "\n",
    "#read the produced csv and iterate through the list\n",
    "with open(\"unescolinks.csv\", 'r',encoding='utf-8') as file:\n",
    "    csvreader = csv.reader(file)    \n",
    "    for url in csvreader:       \n",
    "                \n",
    "        #open each link \n",
    "        driver.get(url[0])\n",
    "        sleep(2)\n",
    "        \n",
    "        #find the image link\n",
    "        imglink_elements = driver.find_elements(\"class name\" , \"slideshow-img\")\n",
    "        for imglink_element in imglink_elements:\n",
    "            imglink = imglink_element.get_attribute(\"src\")\n",
    "            i += 1\n",
    "        \n",
    "            if imglink:\n",
    "                response = requests.get(imglink)\n",
    "                #name the images\n",
    "                imagename=os.path.join(folder_path, \"image\" + str(i) + \".jpg\")\n",
    "                #save the images\n",
    "                with open(imagename, \"wb\") as f:\n",
    "                    f.write(response.content)\n",
    "            else:\n",
    "                print(\"Image link not found\")\n",
    "\n",
    "#Close the webpage\n",
    "driver.quit()\n"
   ]
  },
  {
   "cell_type": "code",
   "execution_count": null,
   "id": "a2ee044e",
   "metadata": {},
   "outputs": [],
   "source": [
    "import os\n",
    "print(os.path.abspath('.'))"
   ]
  },
  {
   "cell_type": "code",
   "execution_count": null,
   "id": "d5f2c1c3",
   "metadata": {},
   "outputs": [],
   "source": []
  }
 ],
 "metadata": {
  "kernelspec": {
   "display_name": "Python 3 (ipykernel)",
   "language": "python",
   "name": "python3"
  },
  "language_info": {
   "codemirror_mode": {
    "name": "ipython",
    "version": 3
   },
   "file_extension": ".py",
   "mimetype": "text/x-python",
   "name": "python",
   "nbconvert_exporter": "python",
   "pygments_lexer": "ipython3",
   "version": "3.11.5"
  }
 },
 "nbformat": 4,
 "nbformat_minor": 5
}
